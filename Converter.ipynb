{
 "cells": [
  {
   "cell_type": "code",
   "execution_count": 1,
   "id": "cb803c90",
   "metadata": {},
   "outputs": [],
   "source": [
    "#url = \"C:/Users/이윤정/Desktop/정리파일0114/Compiled0114/[00] 원본cc_txt (참고용-없는것도있음)/\"\n",
    "#file = open(url+\"physics/atom3-cc\"+\".txt\", \"r\")\n",
    "#data = file.read()"
   ]
  },
  {
   "cell_type": "code",
   "execution_count": 2,
   "id": "c28620da",
   "metadata": {},
   "outputs": [],
   "source": [
    "#tmp = data.split()"
   ]
  },
  {
   "cell_type": "code",
   "execution_count": 3,
   "id": "43a65549",
   "metadata": {},
   "outputs": [],
   "source": [
    "#s = ' '.join(tmp)"
   ]
  },
  {
   "cell_type": "code",
   "execution_count": 4,
   "id": "aa277f23",
   "metadata": {
    "scrolled": false
   },
   "outputs": [],
   "source": [
    "#print(s)"
   ]
  },
  {
   "cell_type": "markdown",
   "id": "65e8596f",
   "metadata": {},
   "source": [
    "-----------"
   ]
  },
  {
   "cell_type": "markdown",
   "id": "a5993446",
   "metadata": {},
   "source": [
    "## Physics"
   ]
  },
  {
   "cell_type": "code",
   "execution_count": 5,
   "id": "022965f3",
   "metadata": {},
   "outputs": [],
   "source": [
    "import json\n",
    "import os"
   ]
  },
  {
   "cell_type": "code",
   "execution_count": 6,
   "id": "5228a5f6",
   "metadata": {},
   "outputs": [],
   "source": [
    "subject = \"chemistry\""
   ]
  },
  {
   "cell_type": "code",
   "execution_count": 7,
   "id": "c0486c36",
   "metadata": {},
   "outputs": [],
   "source": [
    "url = \"C:/Users/이윤정/Desktop/Compiled0114/Compiled0114/[10] 원본cc-NK/\"\n",
    "url_nk = \"C:/Users/이윤정/Desktop/Compiled0114/Compiled0114/[11] 강의노트-NK/\"\n",
    "url_csk500 = \"C:/Users/이윤정/Desktop/Compiled0114/Compiled0114/[12] 강의노트-CSK - 500/\"\n",
    "url_csk1000 = \"C:/Users/이윤정/Desktop/Compiled0114/Compiled0114/[13] 강의노트-CSK - 1000/\"\n",
    "url_csk1500 = \"C:/Users/이윤정/Desktop/Compiled0114/Compiled0114/[14] 강의노트-CSK - 1500/\""
   ]
  },
  {
   "cell_type": "code",
   "execution_count": 8,
   "id": "2862cfb1",
   "metadata": {},
   "outputs": [],
   "source": [
    "files = os.listdir(url+subject)\n",
    "files_nk = os.listdir(url_nk+subject)\n",
    "files_csk500 = os.listdir(url_csk500+subject)\n",
    "files_csk1000 = os.listdir(url_csk1000+subject)\n",
    "files_csk1500 = os.listdir(url_csk1500+subject)"
   ]
  },
  {
   "cell_type": "code",
   "execution_count": 9,
   "id": "04aea92a",
   "metadata": {},
   "outputs": [],
   "source": [
    "files.sort()\n",
    "files_nk.sort()\n",
    "files_csk500.sort()\n",
    "files_csk1000.sort()\n",
    "files_csk1500.sort()"
   ]
  },
  {
   "cell_type": "markdown",
   "id": "2c79fff4",
   "metadata": {},
   "source": [
    "---------------------"
   ]
  },
  {
   "cell_type": "markdown",
   "id": "4756a5cd",
   "metadata": {},
   "source": [
    "### 원본CC NK 개수"
   ]
  },
  {
   "cell_type": "code",
   "execution_count": 10,
   "id": "377e743d",
   "metadata": {
    "scrolled": false
   },
   "outputs": [
    {
     "name": "stdout",
     "output_type": "stream",
     "text": [
      "biochem-ps10-cc-CC_NKdataset.json  NK 개수 :  54\n",
      "biochem-ps15-cc-CC_NKdataset.json  NK 개수 :  62\n",
      "biochem-ps19-cc-CC_NKdataset.json  NK 개수 :  52\n"
     ]
    }
   ],
   "source": [
    "for file in files:\n",
    "    with open(url+\"/\"+subject+\"/\"+file, encoding=\"utf8\") as json_file:\n",
    "        json_data = json.load(json_file)\n",
    "        json_context = json_data['speechContexts']\n",
    "        json_phrase = json_context[0]['phrases']\n",
    "        print(file, \" NK 개수 : \", len(json_phrase))"
   ]
  },
  {
   "cell_type": "markdown",
   "id": "607d4d8a",
   "metadata": {},
   "source": [
    "--------------------------"
   ]
  },
  {
   "cell_type": "markdown",
   "id": "b503bf67",
   "metadata": {},
   "source": [
    "### 강의노트 NK 개수"
   ]
  },
  {
   "cell_type": "code",
   "execution_count": 11,
   "id": "5bf9218c",
   "metadata": {},
   "outputs": [
    {
     "name": "stdout",
     "output_type": "stream",
     "text": [
      "biochem-ps10_NKdataset.json  NK 개수 :  67\n",
      "biochem-ps15_NKdataset.json  NK 개수 :  87\n",
      "biochem-ps19_NKdataset.json  NK 개수 :  43\n"
     ]
    }
   ],
   "source": [
    "for file in files_nk:\n",
    "    with open(url_nk+\"/\"+subject+\"/\"+file, encoding=\"utf8\") as json_file:\n",
    "        json_data = json.load(json_file)\n",
    "        json_context = json_data['speechContexts']\n",
    "        json_phrase = json_context[0]['phrases']\n",
    "        print(file, \" NK 개수 : \", len(json_phrase))"
   ]
  },
  {
   "cell_type": "markdown",
   "id": "a05027ea",
   "metadata": {},
   "source": [
    "### (원본CC) ∩ (강의노트-NK) 개수"
   ]
  },
  {
   "cell_type": "code",
   "execution_count": 12,
   "id": "49c7e8dd",
   "metadata": {},
   "outputs": [],
   "source": [
    "cc_ln = []"
   ]
  },
  {
   "cell_type": "code",
   "execution_count": 13,
   "id": "95f7ffb7",
   "metadata": {
    "scrolled": true
   },
   "outputs": [
    {
     "name": "stdout",
     "output_type": "stream",
     "text": [
      "['acid', 'amino', 'carbon', 'cycle', 'dhap', 'energy', 'fadh2', 'gapdh', 'glutamate', 'glycerol', 'glycogen', 'glycolysis', 'group', 'molecule', 'nadh', 'phosphate', 'problem', 'reaction', 'transamination']\n",
      "biochem-ps10_NKdataset.json :  19\n",
      "['acid', 'atps', 'bond', 'carbon', 'chain', 'cycle', 'decarboxylation', 'dehydrogenase', 'energy', 'enzyme', 'fadh2', 'gapdh', 'generate', 'glycerol', 'group', 'keto', 'ketoacyl', 'lipase', 'malate', 'molecule', 'nadh', 'nadph', 'oxidation', 'problem', 'propionyl', 'pyrophosphatase', 'pyruvate', 'reaction', 'succinate', 'succinyl', 'thioester', 'triacylglycerol']\n",
      "biochem-ps15_NKdataset.json :  32\n",
      "['aldehyde', 'aldolase', 'amine', 'dhap', 'energy', 'gapdh', 'gluconeogenesis', 'glycolysis', 'group', 'nadh', 'phosphoanhydride', 'phosphoglycerate', 'problem', 'product', 'pyruvate', 'reaction', 'voet']\n",
      "biochem-ps19_NKdataset.json :  17\n"
     ]
    }
   ],
   "source": [
    "for i in range(len(files)):\n",
    "    w_c = []\n",
    "    words_cc = []\n",
    "    w_ln = []\n",
    "    words_ln = []\n",
    "    with open(url+\"/\"+subject+\"/\"+files[i], encoding=\"utf8\") as json_file:\n",
    "        json_data = json.load(json_file)\n",
    "        json_context = json_data['speechContexts']\n",
    "        w_c = json_context[0]['phrases']\n",
    "        words_cc = [j.lower() for j in w_c]\n",
    "        #print(file, \" NK 개수 : \", len(json_phrase))\n",
    "    with open(url_nk+\"/\"+subject+\"/\"+files_nk[i], encoding=\"utf8\") as json_file:\n",
    "        json_data = json.load(json_file)\n",
    "        json_context = json_data['speechContexts']\n",
    "        w_ln = json_context[0]['phrases']\n",
    "        words_ln = [j.lower() for j in w_ln]\n",
    "    #print(words_ln)\n",
    "    #cnt = 0\n",
    "    tmp = []\n",
    "    for w in words_cc:\n",
    "        if w in words_ln:\n",
    "            tmp.append(w)\n",
    "            #cnt += 1\n",
    "    #words = words_cc+words_ln\n",
    "    #print(files_nk[i], \": \", cnt)\n",
    "    #print(files[i])\n",
    "    tmp.sort()\n",
    "    print(tmp)\n",
    "    print(files_nk[i], \": \", len(tmp))\n",
    "    cc_ln.append(tmp)"
   ]
  },
  {
   "cell_type": "code",
   "execution_count": 14,
   "id": "89559b3e",
   "metadata": {},
   "outputs": [
    {
     "data": {
      "text/plain": [
       "3"
      ]
     },
     "execution_count": 14,
     "metadata": {},
     "output_type": "execute_result"
    }
   ],
   "source": [
    "len(cc_ln)"
   ]
  },
  {
   "cell_type": "markdown",
   "id": "7fadc86f",
   "metadata": {},
   "source": [
    "### (원본CC) - (강의노트-NK) 개수"
   ]
  },
  {
   "cell_type": "code",
   "execution_count": 15,
   "id": "dad45f4f",
   "metadata": {
    "scrolled": false
   },
   "outputs": [
    {
     "name": "stdout",
     "output_type": "stream",
     "text": [
      "biochem-ps10_NKdataset.json :  35\n",
      "biochem-ps15_NKdataset.json :  30\n",
      "biochem-ps19_NKdataset.json :  35\n"
     ]
    }
   ],
   "source": [
    "for i in range(len(files)):\n",
    "    words_cc = []\n",
    "    words_ln = []\n",
    "    with open(url+\"/\"+subject+\"/\"+files[i], encoding=\"utf8\") as json_file:\n",
    "        json_data = json.load(json_file)\n",
    "        json_context = json_data['speechContexts']\n",
    "        words_cc = json_context[0]['phrases']\n",
    "        #print(files[i], len(words_cc))\n",
    "    with open(url_nk+\"/\"+subject+\"/\"+files_nk[i], encoding=\"utf8\") as json_file:\n",
    "        json_data = json.load(json_file)\n",
    "        json_context = json_data['speechContexts']\n",
    "        words_ln = json_context[0]['phrases']\n",
    "    cnt = 0\n",
    "    for w in words_cc:\n",
    "        if w not in words_ln:\n",
    "            cnt += 1\n",
    "    print(files_nk[i], \": \", cnt)"
   ]
  },
  {
   "cell_type": "markdown",
   "id": "37c2eb92",
   "metadata": {},
   "source": [
    "-------------------"
   ]
  },
  {
   "cell_type": "markdown",
   "id": "e23f8dcb",
   "metadata": {},
   "source": [
    "### 강의노트-CSK500 개수"
   ]
  },
  {
   "cell_type": "code",
   "execution_count": 16,
   "id": "56988043",
   "metadata": {},
   "outputs": [
    {
     "name": "stdout",
     "output_type": "stream",
     "text": [
      "biochem-ps10_CSKdataset500.json  CSK-500 개수 :  567\n",
      "biochem-ps15_CSKdataset500.json  CSK-500 개수 :  587\n",
      "biochem-ps19_CSKdataset500.json  CSK-500 개수 :  543\n"
     ]
    }
   ],
   "source": [
    "for file in files_csk500:\n",
    "    with open(url_csk500+\"/\"+subject+\"/\"+file, encoding=\"utf8\") as json_file:\n",
    "        json_data = json.load(json_file)\n",
    "        json_context = json_data['speechContexts']\n",
    "        json_phrase = json_context[0]['phrases']\n",
    "        print(file, \" CSK-500 개수 : \", len(json_phrase))"
   ]
  },
  {
   "cell_type": "markdown",
   "id": "6920d75a",
   "metadata": {},
   "source": [
    "### (원본CC) ∩ (강의노트-CSK500) 개수"
   ]
  },
  {
   "cell_type": "code",
   "execution_count": 17,
   "id": "cea28b7d",
   "metadata": {},
   "outputs": [],
   "source": [
    "cc_csk500 = []"
   ]
  },
  {
   "cell_type": "code",
   "execution_count": 18,
   "id": "4660a09c",
   "metadata": {},
   "outputs": [
    {
     "name": "stdout",
     "output_type": "stream",
     "text": [
      "biochem-ps10_CSKdataset500.json :  22\n",
      "biochem-ps15_CSKdataset500.json :  33\n",
      "biochem-ps19_CSKdataset500.json :  23\n"
     ]
    }
   ],
   "source": [
    "for i in range(len(files)):\n",
    "    w_c = []\n",
    "    words_cc = []\n",
    "    w_csk = []\n",
    "    words_csk500 = []\n",
    "    with open(url+\"/\"+subject+\"/\"+files[i], encoding=\"utf8\") as json_file:\n",
    "        json_data = json.load(json_file)\n",
    "        json_context = json_data['speechContexts']\n",
    "        w_c = json_context[0]['phrases']\n",
    "        words_cc = [j.lower() for j in w_c]\n",
    "    with open(url_csk500+\"/\"+subject+\"/\"+files_csk500[i], encoding=\"utf8\") as json_file:\n",
    "        json_data = json.load(json_file)\n",
    "        json_context = json_data['speechContexts']\n",
    "        w_csk = json_context[0]['phrases']\n",
    "        words_csk500 = [j.lower() for j in w_csk]\n",
    "    #cnt = 0\n",
    "    tmp = []\n",
    "    for w in words_cc:\n",
    "        if w in words_csk500:\n",
    "            tmp.append(w)\n",
    "            #cnt += 1\n",
    "    #print(url+\"/\"+subject+\"/\"+files[i])\n",
    "    print(files_csk500[i], \": \", len(tmp))\n",
    "    tmp.sort()\n",
    "    #print(tmp)\n",
    "    cc_csk500.append(tmp)"
   ]
  },
  {
   "cell_type": "code",
   "execution_count": 19,
   "id": "2cca8992",
   "metadata": {},
   "outputs": [
    {
     "data": {
      "text/plain": [
       "3"
      ]
     },
     "execution_count": 19,
     "metadata": {},
     "output_type": "execute_result"
    }
   ],
   "source": [
    "len(cc_csk500)"
   ]
  },
  {
   "cell_type": "markdown",
   "id": "355e381e",
   "metadata": {},
   "source": [
    "### (원본CC) - (강의노트-CSK 500) 개수"
   ]
  },
  {
   "cell_type": "code",
   "execution_count": 20,
   "id": "a7bfbd92",
   "metadata": {},
   "outputs": [
    {
     "name": "stdout",
     "output_type": "stream",
     "text": [
      "biochem-ps10_CSKdataset500.json :  32\n",
      "biochem-ps15_CSKdataset500.json :  29\n",
      "biochem-ps19_CSKdataset500.json :  29\n"
     ]
    }
   ],
   "source": [
    "for i in range(len(files)):\n",
    "    words_cc = []\n",
    "    words_csk500 = []\n",
    "    with open(url+\"/\"+subject+\"/\"+files[i], encoding=\"utf8\") as json_file:\n",
    "        json_data = json.load(json_file)\n",
    "        json_context = json_data['speechContexts']\n",
    "        words_cc = json_context[0]['phrases']\n",
    "    with open(url_csk500+\"/\"+subject+\"/\"+files_csk500[i], encoding=\"utf8\") as json_file:\n",
    "        json_data = json.load(json_file)\n",
    "        json_context = json_data['speechContexts']\n",
    "        words_csk500 = json_context[0]['phrases']\n",
    "    cnt = 0\n",
    "    for w in words_cc:\n",
    "        if w not in words_csk500:\n",
    "            cnt += 1\n",
    "    print(files_csk500[i], \": \", cnt)"
   ]
  },
  {
   "cell_type": "markdown",
   "id": "a5fb4b2a",
   "metadata": {},
   "source": [
    "-------------------"
   ]
  },
  {
   "cell_type": "markdown",
   "id": "a1f582b1",
   "metadata": {},
   "source": [
    "### 강의노트-CSK 1000 개수"
   ]
  },
  {
   "cell_type": "code",
   "execution_count": 21,
   "id": "cd0a4606",
   "metadata": {},
   "outputs": [
    {
     "name": "stdout",
     "output_type": "stream",
     "text": [
      "biochem-ps10_CSKdataset1000.json  CSK-1000 개수 :  1067\n",
      "biochem-ps15_CSKdataset1000.json  CSK-1000 개수 :  1087\n",
      "biochem-ps19_CSKdataset1000.json  CSK-1000 개수 :  1043\n"
     ]
    }
   ],
   "source": [
    "for file in files_csk1000:\n",
    "    with open(url_csk1000+\"/\"+subject+\"/\"+file, encoding=\"utf8\") as json_file:\n",
    "        json_data = json.load(json_file)\n",
    "        json_context = json_data['speechContexts']\n",
    "        json_phrase = json_context[0]['phrases']\n",
    "        print(file, \" CSK-1000 개수 : \", len(json_phrase))"
   ]
  },
  {
   "cell_type": "markdown",
   "id": "c52b045d",
   "metadata": {},
   "source": [
    "### (원본CC) ∩ (강의노트-CSK 1000) 개수"
   ]
  },
  {
   "cell_type": "code",
   "execution_count": 22,
   "id": "75387cbf",
   "metadata": {},
   "outputs": [],
   "source": [
    "cc_csk1000 = []"
   ]
  },
  {
   "cell_type": "code",
   "execution_count": 23,
   "id": "c4524d6d",
   "metadata": {},
   "outputs": [
    {
     "name": "stdout",
     "output_type": "stream",
     "text": [
      "biochem-ps10_CSKdataset1000.json :  22\n",
      "biochem-ps15_CSKdataset1000.json :  33\n",
      "biochem-ps19_CSKdataset1000.json :  24\n"
     ]
    }
   ],
   "source": [
    "for i in range(len(files)):\n",
    "    w_c = []\n",
    "    words_cc = []\n",
    "    w_csk = []\n",
    "    words_csk1000 = []\n",
    "    with open(url+\"/\"+subject+\"/\"+files[i], encoding=\"utf8\") as json_file:\n",
    "        json_data = json.load(json_file)\n",
    "        json_context = json_data['speechContexts']\n",
    "        w_c = json_context[0]['phrases']\n",
    "        words_cc = [j.lower() for j in w_c]\n",
    "    with open(url_csk1000+\"/\"+subject+\"/\"+files_csk1000[i], encoding=\"utf8\") as json_file:\n",
    "        json_data = json.load(json_file)\n",
    "        json_context = json_data['speechContexts']\n",
    "        w_csk = json_context[0]['phrases']\n",
    "        words_csk1000 = [j.lower() for j in w_csk]\n",
    "    #cnt = 0\n",
    "    tmp = []\n",
    "    for w in words_cc:\n",
    "        if w in words_csk1000:\n",
    "            tmp.append(w)\n",
    "            #cnt += 1\n",
    "    print(files_csk1000[i], \": \", len(tmp))\n",
    "    tmp.sort()\n",
    "    cc_csk1000.append(tmp)"
   ]
  },
  {
   "cell_type": "code",
   "execution_count": 24,
   "id": "81e01a75",
   "metadata": {},
   "outputs": [
    {
     "data": {
      "text/plain": [
       "3"
      ]
     },
     "execution_count": 24,
     "metadata": {},
     "output_type": "execute_result"
    }
   ],
   "source": [
    "len(cc_csk1000)"
   ]
  },
  {
   "cell_type": "markdown",
   "id": "716dd32f",
   "metadata": {},
   "source": [
    "### (원본CC) - (강의노트-CSK 1000) 개수"
   ]
  },
  {
   "cell_type": "code",
   "execution_count": 25,
   "id": "7c4ad18f",
   "metadata": {},
   "outputs": [
    {
     "name": "stdout",
     "output_type": "stream",
     "text": [
      "biochem-ps10_CSKdataset1000.json :  32\n",
      "biochem-ps15_CSKdataset1000.json :  29\n",
      "biochem-ps19_CSKdataset1000.json :  28\n"
     ]
    }
   ],
   "source": [
    "for i in range(len(files)):\n",
    "    words_cc = []\n",
    "    words_csk1000 = []\n",
    "    with open(url+\"/\"+subject+\"/\"+files[i], encoding=\"utf8\") as json_file:\n",
    "        json_data = json.load(json_file)\n",
    "        json_context = json_data['speechContexts']\n",
    "        words_cc = json_context[0]['phrases']\n",
    "    with open(url_csk1000+\"/\"+subject+\"/\"+files_csk1000[i], encoding=\"utf8\") as json_file:\n",
    "        json_data = json.load(json_file)\n",
    "        json_context = json_data['speechContexts']\n",
    "        words_csk1000 = json_context[0]['phrases']\n",
    "    cnt = 0\n",
    "    for w in words_cc:\n",
    "        if w not in words_csk1000:\n",
    "            cnt += 1\n",
    "    print(files_csk1000[i], \": \", cnt)"
   ]
  },
  {
   "cell_type": "markdown",
   "id": "535f0727",
   "metadata": {},
   "source": [
    "-------------------"
   ]
  },
  {
   "cell_type": "markdown",
   "id": "d7696049",
   "metadata": {},
   "source": [
    "### 강의노트-CSK 1500 개수"
   ]
  },
  {
   "cell_type": "code",
   "execution_count": 26,
   "id": "5f7679a8",
   "metadata": {
    "scrolled": false
   },
   "outputs": [
    {
     "name": "stdout",
     "output_type": "stream",
     "text": [
      "biochem-ps10_CSKdataset1500.json  CSK-1500 개수 :  1567\n",
      "biochem-ps15_CSKdataset1500.json  CSK-1500 개수 :  1587\n",
      "biochem-ps19_CSKdataset1500.json  CSK-1500 개수 :  1543\n"
     ]
    }
   ],
   "source": [
    "for file in files_csk1500:\n",
    "    with open(url_csk1500+\"/\"+subject+\"/\"+file, encoding=\"utf8\") as json_file:\n",
    "        json_data = json.load(json_file)\n",
    "        json_context = json_data['speechContexts']\n",
    "        json_phrase = json_context[0]['phrases']\n",
    "        print(file, \" CSK-1500 개수 : \", len(json_phrase))"
   ]
  },
  {
   "cell_type": "markdown",
   "id": "426c91b4",
   "metadata": {},
   "source": [
    "### (원본CC) ∩ (강의노트-CSK 1500) 개수"
   ]
  },
  {
   "cell_type": "code",
   "execution_count": 27,
   "id": "8582af27",
   "metadata": {},
   "outputs": [],
   "source": [
    "cc_csk1500 = []"
   ]
  },
  {
   "cell_type": "code",
   "execution_count": 28,
   "id": "a42a3157",
   "metadata": {},
   "outputs": [
    {
     "name": "stdout",
     "output_type": "stream",
     "text": [
      "biochem-ps10_CSKdataset1500.json :  23\n",
      "biochem-ps15_CSKdataset1500.json :  35\n",
      "biochem-ps19_CSKdataset1500.json :  26\n"
     ]
    }
   ],
   "source": [
    "for i in range(len(files)):\n",
    "    w_c = []\n",
    "    words_cc = []\n",
    "    w_csk = []\n",
    "    words_csk1500 = []\n",
    "    with open(url+\"/\"+subject+\"/\"+files[i], encoding=\"utf8\") as json_file:\n",
    "        json_data = json.load(json_file)\n",
    "        json_context = json_data['speechContexts']\n",
    "        #words_cc = json_context[0]['phrases']\n",
    "        w_c = json_context[0]['phrases']\n",
    "        words_cc = [j.lower() for j in w_c]\n",
    "    with open(url_csk1500+\"/\"+subject+\"/\"+files_csk1500[i], encoding=\"utf8\") as json_file:\n",
    "        json_data = json.load(json_file)\n",
    "        json_context = json_data['speechContexts']\n",
    "        w_csk = json_context[0]['phrases']\n",
    "        words_csk1500 = [j.lower() for j in w_csk]\n",
    "    #cnt = 0\n",
    "    tmp = []\n",
    "    for w in words_cc:\n",
    "        if w in words_csk1500:\n",
    "            #cnt += 1\n",
    "            tmp.append(w)\n",
    "    print(files_csk1500[i], \": \", len(tmp))\n",
    "    tmp.sort()\n",
    "    cc_csk1500.append(tmp)"
   ]
  },
  {
   "cell_type": "code",
   "execution_count": 29,
   "id": "0055cbc5",
   "metadata": {},
   "outputs": [
    {
     "data": {
      "text/plain": [
       "3"
      ]
     },
     "execution_count": 29,
     "metadata": {},
     "output_type": "execute_result"
    }
   ],
   "source": [
    "len(cc_csk1500)"
   ]
  },
  {
   "cell_type": "markdown",
   "id": "6ca96962",
   "metadata": {},
   "source": [
    "### (원본CC) - (강의노트-CSK 1500) 개수"
   ]
  },
  {
   "cell_type": "code",
   "execution_count": 30,
   "id": "21c48c5d",
   "metadata": {},
   "outputs": [
    {
     "name": "stdout",
     "output_type": "stream",
     "text": [
      "biochem-ps10_CSKdataset1500.json :  31\n",
      "biochem-ps15_CSKdataset1500.json :  27\n",
      "biochem-ps19_CSKdataset1500.json :  26\n"
     ]
    }
   ],
   "source": [
    "for i in range(len(files)):\n",
    "    words_cc = []\n",
    "    words_csk1500 = []\n",
    "    with open(url+\"/\"+subject+\"/\"+files[i], encoding=\"utf8\") as json_file:\n",
    "        json_data = json.load(json_file)\n",
    "        json_context = json_data['speechContexts']\n",
    "        words_cc = json_context[0]['phrases']\n",
    "    with open(url_csk1500+\"/\"+subject+\"/\"+files_csk1500[i], encoding=\"utf8\") as json_file:\n",
    "        json_data = json.load(json_file)\n",
    "        json_context = json_data['speechContexts']\n",
    "        words_csk1500 = json_context[0]['phrases']\n",
    "    cnt = 0\n",
    "    for w in words_cc:\n",
    "        if w not in words_csk1500:\n",
    "            cnt += 1\n",
    "    print(files_csk1500[i], \": \", cnt)"
   ]
  },
  {
   "cell_type": "markdown",
   "id": "e2866156",
   "metadata": {},
   "source": [
    "-----------------"
   ]
  },
  {
   "cell_type": "code",
   "execution_count": 31,
   "id": "9921ae13",
   "metadata": {},
   "outputs": [],
   "source": [
    "url = \"C:/Users/이윤정/Desktop/Compiled0114/Compiled0114/[00] 원본cc_txt (참고용-없는것도있음)/\"\n",
    "url_basic = \"C:/Users/이윤정/Desktop/Compiled0114/Compiled0114/[20] Basic-stt/\"\n",
    "url_nk = \"C:/Users/이윤정/Desktop/Compiled0114/Compiled0114/[21] NK-stt/\"\n",
    "url_csk500 = \"C:/Users/이윤정/Desktop/Compiled0114/Compiled0114/[22] CSK-stt - 500/\"\n",
    "url_csk1000 = \"C:/Users/이윤정/Desktop/Compiled0114/Compiled0114/[23] CSK-stt - 1000/\"\n",
    "url_csk1500 = \"C:/Users/이윤정/Desktop/Compiled0114/Compiled0114/[24] CSK-stt - 1500/\""
   ]
  },
  {
   "cell_type": "code",
   "execution_count": 32,
   "id": "ce14d9bb",
   "metadata": {},
   "outputs": [],
   "source": [
    "#subject = \"cse\""
   ]
  },
  {
   "cell_type": "code",
   "execution_count": 33,
   "id": "1e1350e5",
   "metadata": {},
   "outputs": [],
   "source": [
    "files = os.listdir(url+subject)\n",
    "files_basic = os.listdir(url_basic+subject)\n",
    "files_nk = os.listdir(url_nk+subject)\n",
    "files_csk500 = os.listdir(url_csk500+subject)\n",
    "files_csk1000 = os.listdir(url_csk1000+subject)\n",
    "files_csk1500 = os.listdir(url_csk1500+subject)"
   ]
  },
  {
   "cell_type": "code",
   "execution_count": 34,
   "id": "33e4555a",
   "metadata": {},
   "outputs": [],
   "source": [
    "files.sort()\n",
    "files_basic.sort()\n",
    "files_nk.sort()\n",
    "files_csk500.sort()\n",
    "files_csk1000.sort()\n",
    "files_csk1500.sort()"
   ]
  },
  {
   "cell_type": "code",
   "execution_count": 35,
   "id": "61a8c035",
   "metadata": {
    "scrolled": true
   },
   "outputs": [
    {
     "name": "stdout",
     "output_type": "stream",
     "text": [
      "3 ['biochem-ps10.txt', 'biochem-ps15.txt', 'biochem-ps19.txt']\n"
     ]
    }
   ],
   "source": [
    "print(len(files), files)"
   ]
  },
  {
   "cell_type": "code",
   "execution_count": 36,
   "id": "39f0e36c",
   "metadata": {},
   "outputs": [
    {
     "name": "stdout",
     "output_type": "stream",
     "text": [
      "3 ['biochem-ps10_basic.txt', 'biochem-ps15_basic.txt', 'biochem-ps19_basic.txt']\n"
     ]
    }
   ],
   "source": [
    "print(len(files_basic), files_basic)"
   ]
  },
  {
   "cell_type": "code",
   "execution_count": 37,
   "id": "ba1e0fbb",
   "metadata": {},
   "outputs": [
    {
     "name": "stdout",
     "output_type": "stream",
     "text": [
      "3 ['biochem-ps10_nk.txt', 'biochem-ps15_nk.txt', 'biochem-ps19_nk.txt']\n"
     ]
    }
   ],
   "source": [
    "print(len(files_nk), files_nk)"
   ]
  },
  {
   "cell_type": "code",
   "execution_count": 38,
   "id": "50a7d304",
   "metadata": {},
   "outputs": [
    {
     "name": "stdout",
     "output_type": "stream",
     "text": [
      "3 ['biochem-ps10_csk500.txt', 'biochem-ps15_csk500.txt', 'biochem-ps19_csk500.txt']\n"
     ]
    }
   ],
   "source": [
    "print(len(files_csk500), files_csk500)"
   ]
  },
  {
   "cell_type": "code",
   "execution_count": 39,
   "id": "ca5bde07",
   "metadata": {},
   "outputs": [
    {
     "name": "stdout",
     "output_type": "stream",
     "text": [
      "3 ['biochem-ps10_csk1000.txt', 'biochem-ps15_csk1000.txt', 'biochem-ps19_csk1000.txt']\n"
     ]
    }
   ],
   "source": [
    "print(len(files_csk1000), files_csk1000)"
   ]
  },
  {
   "cell_type": "code",
   "execution_count": 40,
   "id": "514491ef",
   "metadata": {},
   "outputs": [
    {
     "name": "stdout",
     "output_type": "stream",
     "text": [
      "3 ['biochem-ps10_csk1500.txt', 'biochem-ps15_csk1500.txt', 'biochem-ps19_csk1500.txt']\n"
     ]
    }
   ],
   "source": [
    "print(len(files_csk1500), files_csk1500)"
   ]
  },
  {
   "cell_type": "markdown",
   "id": "ceb53287",
   "metadata": {},
   "source": [
    "---------------------"
   ]
  },
  {
   "cell_type": "code",
   "execution_count": 41,
   "id": "ed49c93c",
   "metadata": {},
   "outputs": [],
   "source": [
    "url_w = \"C:/Users/이윤정/Desktop/Compiled0114/Compiled0114/[30] wordlist -nk 기준/\""
   ]
  },
  {
   "cell_type": "code",
   "execution_count": 42,
   "id": "726d53c5",
   "metadata": {},
   "outputs": [],
   "source": [
    "files_w = os.listdir(url_w+subject)\n",
    "files_w.sort()"
   ]
  },
  {
   "cell_type": "code",
   "execution_count": 43,
   "id": "bfdea46e",
   "metadata": {},
   "outputs": [
    {
     "data": {
      "text/plain": [
       "['biochem-ps10_nk.txt', 'biochem-ps15_nk.txt', 'biochem-ps19_nk.txt']"
      ]
     },
     "execution_count": 43,
     "metadata": {},
     "output_type": "execute_result"
    }
   ],
   "source": [
    "files_w"
   ]
  },
  {
   "cell_type": "markdown",
   "id": "d75a3dd4",
   "metadata": {},
   "source": [
    "--------------------"
   ]
  },
  {
   "cell_type": "markdown",
   "id": "b862562a",
   "metadata": {},
   "source": [
    "cc_nk\n",
    "cc_csk500\n",
    "cc_csk1000\n",
    "cc_csk1500\n"
   ]
  },
  {
   "cell_type": "markdown",
   "id": "49bacc9f",
   "metadata": {},
   "source": [
    "## 원본CC, Basic NK 비교"
   ]
  },
  {
   "cell_type": "code",
   "execution_count": 44,
   "id": "3ca5dda0",
   "metadata": {},
   "outputs": [],
   "source": [
    "import re"
   ]
  },
  {
   "cell_type": "code",
   "execution_count": 45,
   "id": "4c404567",
   "metadata": {
    "scrolled": false
   },
   "outputs": [
    {
     "name": "stdout",
     "output_type": "stream",
     "text": [
      "biochem-ps10.txt cc_nl 단어수: 19\n",
      "[acid]         cc/basic/nk:\t14\t17\t17\n",
      "[amino]        cc/basic/nk:\t10\t10\t10\n",
      "[carbon]       cc/basic/nk:\t73\t65\t65\n",
      "[cycle]        cc/basic/nk:\t20\t19\t19\n",
      "[dhap]         cc/basic/nk:\t1\t1\t1\n",
      "[energy]       cc/basic/nk:\t7\t7\t7\n",
      "[fadh2]        cc/basic/nk:\t4\t3\t3\n",
      "[gapdh]        cc/basic/nk:\t2\t0\t0\n",
      "[glutamate]    cc/basic/nk:\t6\t6\t6\n",
      "[glycerol]     cc/basic/nk:\t28\t21\t23\n",
      "[glycogen]     cc/basic/nk:\t15\t14\t14\n",
      "[glycolysis]   cc/basic/nk:\t5\t4\t5\n",
      "[group]        cc/basic/nk:\t19\t19\t19\n",
      "[molecule]     cc/basic/nk:\t24\t21\t22\n",
      "[nadh]         cc/basic/nk:\t11\t7\t7\n",
      "[phosphate]    cc/basic/nk:\t17\t13\t13\n",
      "[problem]      cc/basic/nk:\t14\t13\t13\n",
      "[reaction]     cc/basic/nk:\t13\t13\t13\n",
      "[transamination]cc/basic/nk:\t7\t2\t3\n",
      "\n",
      "biochem-ps15.txt cc_nl 단어수: 32\n",
      "[acid]         cc/basic/nk:\t53\t56\t55\n",
      "[atps]         cc/basic/nk:\t7\t0\t0\n",
      "[bond]         cc/basic/nk:\t16\t12\t12\n",
      "[carbon]       cc/basic/nk:\t27\t26\t26\n",
      "[chain]        cc/basic/nk:\t7\t6\t6\n",
      "[cycle]        cc/basic/nk:\t12\t12\t12\n",
      "[decarboxylation]cc/basic/nk:\t1\t0\t0\n",
      "[dehydrogenase]cc/basic/nk:\t9\t7\t7\n",
      "[energy]       cc/basic/nk:\t15\t15\t15\n",
      "[enzyme]       cc/basic/nk:\t14\t10\t11\n",
      "[fadh2]        cc/basic/nk:\t13\t8\t9\n",
      "[gapdh]        cc/basic/nk:\t1\t0\t0\n",
      "[generate]     cc/basic/nk:\t50\t46\t45\n",
      "[glycerol]     cc/basic/nk:\t18\t12\t14\n",
      "[group]        cc/basic/nk:\t2\t2\t2\n",
      "[keto]         cc/basic/nk:\t3\t2\t2\n",
      "[ketoacyl]     cc/basic/nk:\t2\t0\t0\n",
      "[lipase]       cc/basic/nk:\t2\t1\t1\n",
      "[malate]       cc/basic/nk:\t8\t1\t2\n",
      "[molecule]     cc/basic/nk:\t99\t90\t91\n",
      "[nadh]         cc/basic/nk:\t23\t13\t18\n",
      "[nadph]        cc/basic/nk:\t2\t0\t1\n",
      "[oxidation]    cc/basic/nk:\t34\t29\t29\n",
      "[problem]      cc/basic/nk:\t11\t10\t10\n",
      "[propionyl]    cc/basic/nk:\t6\t0\t4\n",
      "[pyrophosphatase]cc/basic/nk:\t1\t0\t0\n",
      "[pyruvate]     cc/basic/nk:\t13\t7\t8\n",
      "[reaction]     cc/basic/nk:\t6\t6\t6\n",
      "[succinate]    cc/basic/nk:\t4\t2\t2\n",
      "[succinyl]     cc/basic/nk:\t9\t1\t3\n",
      "[thioester]    cc/basic/nk:\t19\t0\t0\n",
      "[triacylglycerol]cc/basic/nk:\t2\t0\t0\n",
      "\n",
      "biochem-ps19.txt cc_nl 단어수: 17\n",
      "[aldehyde]     cc/basic/nk:\t9\t4\t4\n",
      "[aldolase]     cc/basic/nk:\t10\t4\t5\n",
      "[amine]        cc/basic/nk:\t3\t1\t1\n",
      "[dhap]         cc/basic/nk:\t1\t1\t1\n",
      "[energy]       cc/basic/nk:\t9\t10\t10\n",
      "[gapdh]        cc/basic/nk:\t4\t0\t0\n",
      "[gluconeogenesis]cc/basic/nk:\t21\t16\t17\n",
      "[glycolysis]   cc/basic/nk:\t18\t13\t15\n",
      "[group]        cc/basic/nk:\t9\t10\t10\n",
      "[nadh]         cc/basic/nk:\t8\t4\t5\n",
      "[phosphoanhydride]cc/basic/nk:\t1\t0\t0\n",
      "[phosphoglycerate]cc/basic/nk:\t16\t6\t7\n",
      "[problem]      cc/basic/nk:\t12\t12\t12\n",
      "[product]      cc/basic/nk:\t7\t7\t7\n",
      "[pyruvate]     cc/basic/nk:\t14\t6\t6\n",
      "[reaction]     cc/basic/nk:\t42\t41\t41\n",
      "[voet]         cc/basic/nk:\t2\t0\t0\n",
      "\n"
     ]
    }
   ],
   "source": [
    "for i in range(len(files)):\n",
    "    #file_w = open(url_w+subject+\"/\"+files_w[i], \"r\")\n",
    "    #data_w = file_w.read()\n",
    "    #wlist = data_w.split()\n",
    "    wlist = cc_ln[i]\n",
    "    print(files[i], \"cc_nl 단어수:\", len(wlist))\n",
    "    #print(wlist)\n",
    "    #print(\"\")\n",
    "    \n",
    "    #cc\n",
    "    file_cc = open(url+subject+\"/\"+files[i], \"r\")\n",
    "    data_cc = file_cc.read()\n",
    "    data_cc=data_cc.lower()\n",
    "    data_cc=re.sub('[^\\w]', ' ', data_cc)\n",
    "    tmp_cc = data_cc.split()\n",
    "    s_cc= ' '.join(tmp_cc)\n",
    "    #print(url+subject+\"/\"+files[i])\n",
    "    #print(len(s_cc))\n",
    "\n",
    "    #basic\n",
    "    file_basic = open(url_basic+subject+\"/\"+files_basic[i], \"r\")\n",
    "    data_basic = file_basic.read()\n",
    "    data_basic=data_basic.lower()\n",
    "    data_basic=re.sub('[^\\w]', ' ', data_basic)\n",
    "    tmp_basic = data_basic.split()\n",
    "    s_basic= ' '.join(tmp_basic)\n",
    "    #print(url_basic+subject+\"/\"+files_basic[i])\n",
    "    #print(len(s_basic))\n",
    "\n",
    "    #nk\n",
    "    file_nk = open(url_nk+subject+\"/\"+files_nk[i], \"r\")\n",
    "    data_nk = file_nk.read()\n",
    "    data_nk=data_nk.lower()\n",
    "    data_nk=re.sub('[^\\w]', ' ', data_nk)\n",
    "    tmp_nk = data_nk.split()\n",
    "    s_nk= ' '.join(tmp_nk)\n",
    "    #print(url_nk+subject+\"/\"+files_nk[i])\n",
    "    #print(len(s_nk))\n",
    "\n",
    "    for word in wlist:\n",
    "        wordprint = '[' + word + ']'\n",
    "        print('%-15s' % wordprint, end=\"\")\n",
    "        print(\"cc/basic/nk:\\t{}\\t{}\\t{}\".format(s_cc.count(word),s_basic.count(word),s_nk.count(word)))\n",
    "    print(\"\")"
   ]
  },
  {
   "cell_type": "markdown",
   "id": "04feb094",
   "metadata": {},
   "source": [
    "----------------------"
   ]
  },
  {
   "cell_type": "markdown",
   "id": "a47b3906",
   "metadata": {},
   "source": [
    "## cc-csk500 비교"
   ]
  },
  {
   "cell_type": "code",
   "execution_count": 46,
   "id": "8c4c0e42",
   "metadata": {
    "scrolled": false
   },
   "outputs": [
    {
     "name": "stdout",
     "output_type": "stream",
     "text": [
      "biochem-ps10.txt cc_csk500 단어수: 22\n",
      "[acid]         cc/basic/csk500:\t14\t17\t17\n",
      "[amino]        cc/basic/csk500:\t10\t10\t10\n",
      "[carbon]       cc/basic/csk500:\t73\t65\t65\n",
      "[convention]   cc/basic/csk500:\t1\t1\t1\n",
      "[cycle]        cc/basic/csk500:\t20\t19\t19\n",
      "[dhap]         cc/basic/csk500:\t1\t1\t1\n",
      "[energy]       cc/basic/csk500:\t7\t7\t7\n",
      "[fadh2]        cc/basic/csk500:\t4\t3\t3\n",
      "[gapdh]        cc/basic/csk500:\t2\t0\t0\n",
      "[glutamate]    cc/basic/csk500:\t6\t6\t6\n",
      "[glycerol]     cc/basic/csk500:\t28\t21\t23\n",
      "[glycogen]     cc/basic/csk500:\t15\t14\t14\n",
      "[glycolysis]   cc/basic/csk500:\t5\t4\t5\n",
      "[group]        cc/basic/csk500:\t19\t19\t19\n",
      "[label]        cc/basic/csk500:\t36\t33\t33\n",
      "[molecule]     cc/basic/csk500:\t24\t21\t22\n",
      "[nadh]         cc/basic/csk500:\t11\t7\t9\n",
      "[phosphate]    cc/basic/csk500:\t17\t13\t13\n",
      "[problem]      cc/basic/csk500:\t14\t13\t13\n",
      "[reaction]     cc/basic/csk500:\t13\t13\t13\n",
      "[track]        cc/basic/csk500:\t6\t6\t6\n",
      "[transamination]cc/basic/csk500:\t7\t2\t3\n",
      "\n",
      "biochem-ps15.txt cc_csk500 단어수: 33\n",
      "[acid]         cc/basic/csk500:\t53\t56\t55\n",
      "[atps]         cc/basic/csk500:\t7\t0\t0\n",
      "[bond]         cc/basic/csk500:\t16\t12\t12\n",
      "[carbon]       cc/basic/csk500:\t27\t26\t26\n",
      "[chain]        cc/basic/csk500:\t7\t6\t6\n",
      "[cycle]        cc/basic/csk500:\t12\t12\t12\n",
      "[decarboxylation]cc/basic/csk500:\t1\t0\t0\n",
      "[dehydrogenase]cc/basic/csk500:\t9\t7\t7\n",
      "[energy]       cc/basic/csk500:\t15\t15\t15\n",
      "[enzyme]       cc/basic/csk500:\t14\t10\t11\n",
      "[fadh2]        cc/basic/csk500:\t13\t8\t9\n",
      "[gapdh]        cc/basic/csk500:\t1\t0\t0\n",
      "[generate]     cc/basic/csk500:\t50\t46\t45\n",
      "[glycerol]     cc/basic/csk500:\t18\t12\t14\n",
      "[group]        cc/basic/csk500:\t2\t2\t2\n",
      "[keto]         cc/basic/csk500:\t3\t2\t2\n",
      "[ketoacyl]     cc/basic/csk500:\t2\t0\t1\n",
      "[lipase]       cc/basic/csk500:\t2\t1\t1\n",
      "[malate]       cc/basic/csk500:\t8\t1\t1\n",
      "[molecule]     cc/basic/csk500:\t99\t90\t91\n",
      "[nadh]         cc/basic/csk500:\t23\t13\t18\n",
      "[nadph]        cc/basic/csk500:\t2\t0\t1\n",
      "[oxidation]    cc/basic/csk500:\t34\t29\t30\n",
      "[problem]      cc/basic/csk500:\t11\t10\t10\n",
      "[propionyl]    cc/basic/csk500:\t6\t0\t4\n",
      "[pyrophosphatase]cc/basic/csk500:\t1\t0\t0\n",
      "[pyruvate]     cc/basic/csk500:\t13\t7\t8\n",
      "[reaction]     cc/basic/csk500:\t6\t6\t6\n",
      "[succinate]    cc/basic/csk500:\t4\t2\t2\n",
      "[succinyl]     cc/basic/csk500:\t9\t1\t3\n",
      "[thioester]    cc/basic/csk500:\t19\t0\t0\n",
      "[track]        cc/basic/csk500:\t1\t1\t1\n",
      "[triacylglycerol]cc/basic/csk500:\t2\t0\t0\n",
      "\n",
      "biochem-ps19.txt cc_csk500 단어수: 23\n",
      "[aldehyde]     cc/basic/csk500:\t9\t4\t4\n",
      "[aldolase]     cc/basic/csk500:\t10\t4\t5\n",
      "[amine]        cc/basic/csk500:\t3\t1\t1\n",
      "[delta]        cc/basic/csk500:\t1\t1\t1\n",
      "[dhap]         cc/basic/csk500:\t1\t1\t1\n",
      "[energy]       cc/basic/csk500:\t9\t10\t10\n",
      "[gapdh]        cc/basic/csk500:\t4\t0\t0\n",
      "[gluconeogenesis]cc/basic/csk500:\t21\t16\t17\n",
      "[glycolysis]   cc/basic/csk500:\t18\t13\t15\n",
      "[group]        cc/basic/csk500:\t9\t10\t10\n",
      "[nadh]         cc/basic/csk500:\t8\t4\t6\n",
      "[phosphoanhydride]cc/basic/csk500:\t1\t0\t0\n",
      "[phosphoglycerate]cc/basic/csk500:\t16\t6\t7\n",
      "[problem]      cc/basic/csk500:\t12\t12\t12\n",
      "[product]      cc/basic/csk500:\t7\t7\t7\n",
      "[pyruvate]     cc/basic/csk500:\t14\t6\t6\n",
      "[reaction]     cc/basic/csk500:\t42\t41\t41\n",
      "[release]      cc/basic/csk500:\t4\t4\t4\n",
      "[space]        cc/basic/csk500:\t2\t2\t2\n",
      "[sugar]        cc/basic/csk500:\t1\t1\t1\n",
      "[textbook]     cc/basic/csk500:\t1\t1\t1\n",
      "[version]      cc/basic/csk500:\t2\t1\t1\n",
      "[voet]         cc/basic/csk500:\t2\t0\t0\n",
      "\n"
     ]
    }
   ],
   "source": [
    "for i in range(len(files)):\n",
    "    \n",
    "    wlist = cc_csk500[i]\n",
    "    print(files[i], \"cc_csk500 단어수:\", len(wlist))\n",
    "    \n",
    "    #cc\n",
    "    file_cc = open(url+subject+\"/\"+files[i], \"r\")\n",
    "    data_cc = file_cc.read()\n",
    "    data_cc=data_cc.lower()\n",
    "    data_cc=re.sub('[^\\w]', ' ', data_cc)\n",
    "    tmp_cc = data_cc.split()\n",
    "    s_cc= ' '.join(tmp_cc)\n",
    "\n",
    "    #basic\n",
    "    file_basic = open(url_basic+subject+\"/\"+files_basic[i], \"r\")\n",
    "    data_basic = file_basic.read()\n",
    "    data_basic=data_basic.lower()\n",
    "    data_basic=re.sub('[^\\w]', ' ', data_basic)\n",
    "    tmp_basic = data_basic.split()\n",
    "    s_basic= ' '.join(tmp_basic)\n",
    "    \n",
    "    #nk\n",
    "    file_nk = open(url_nk+subject+\"/\"+files_nk[i], \"r\")\n",
    "    data_nk = file_nk.read()\n",
    "    data_nk=data_nk.lower()\n",
    "    data_nk=re.sub('[^\\w]', ' ', data_nk)\n",
    "    tmp_nk = data_nk.split()\n",
    "    s_nk= ' '.join(tmp_nk)\n",
    "\n",
    "    #csk 500\n",
    "    file_csk = open(url_csk500+subject+\"/\"+files_csk500[i], \"r\")\n",
    "    data_csk = file_csk.read()\n",
    "    data_csk = data_csk.lower()\n",
    "    data_csk = re.sub('[^\\w]', ' ', data_csk)\n",
    "    tmp_csk = data_csk.split()\n",
    "    s_csk= ' '.join(tmp_csk)\n",
    "    \n",
    "    for word in wlist:\n",
    "        wordprint = '[' + word + ']'\n",
    "        print('%-15s' % wordprint, end=\"\")\n",
    "        print(\"cc/basic/csk500:\\t{}\\t{}\\t{}\".format(s_cc.count(word),s_basic.count(word),s_csk.count(word)))\n",
    "    print(\"\")"
   ]
  },
  {
   "cell_type": "markdown",
   "id": "ee9f4792",
   "metadata": {},
   "source": [
    "## cc-csk1000 비교"
   ]
  },
  {
   "cell_type": "code",
   "execution_count": 47,
   "id": "8f41d5d7",
   "metadata": {
    "scrolled": false
   },
   "outputs": [
    {
     "name": "stdout",
     "output_type": "stream",
     "text": [
      "biochem-ps10.txt cc_csk1000 단어수: 22\n",
      "[acid]         cc/basic/csk1000:\t14\t17\t17\n",
      "[amino]        cc/basic/csk1000:\t10\t10\t10\n",
      "[carbon]       cc/basic/csk1000:\t73\t65\t65\n",
      "[convention]   cc/basic/csk1000:\t1\t1\t1\n",
      "[cycle]        cc/basic/csk1000:\t20\t19\t19\n",
      "[dhap]         cc/basic/csk1000:\t1\t1\t1\n",
      "[energy]       cc/basic/csk1000:\t7\t7\t7\n",
      "[fadh2]        cc/basic/csk1000:\t4\t3\t3\n",
      "[gapdh]        cc/basic/csk1000:\t2\t0\t0\n",
      "[glutamate]    cc/basic/csk1000:\t6\t6\t6\n",
      "[glycerol]     cc/basic/csk1000:\t28\t21\t23\n",
      "[glycogen]     cc/basic/csk1000:\t15\t14\t14\n",
      "[glycolysis]   cc/basic/csk1000:\t5\t4\t5\n",
      "[group]        cc/basic/csk1000:\t19\t19\t19\n",
      "[label]        cc/basic/csk1000:\t36\t33\t33\n",
      "[molecule]     cc/basic/csk1000:\t24\t21\t22\n",
      "[nadh]         cc/basic/csk1000:\t11\t7\t9\n",
      "[phosphate]    cc/basic/csk1000:\t17\t13\t13\n",
      "[problem]      cc/basic/csk1000:\t14\t13\t13\n",
      "[reaction]     cc/basic/csk1000:\t13\t13\t13\n",
      "[track]        cc/basic/csk1000:\t6\t6\t6\n",
      "[transamination]cc/basic/csk1000:\t7\t2\t3\n",
      "\n",
      "biochem-ps15.txt cc_csk1000 단어수: 33\n",
      "[acid]         cc/basic/csk1000:\t53\t56\t55\n",
      "[atps]         cc/basic/csk1000:\t7\t0\t0\n",
      "[bond]         cc/basic/csk1000:\t16\t12\t12\n",
      "[carbon]       cc/basic/csk1000:\t27\t26\t26\n",
      "[chain]        cc/basic/csk1000:\t7\t6\t6\n",
      "[cycle]        cc/basic/csk1000:\t12\t12\t12\n",
      "[decarboxylation]cc/basic/csk1000:\t1\t0\t0\n",
      "[dehydrogenase]cc/basic/csk1000:\t9\t7\t7\n",
      "[energy]       cc/basic/csk1000:\t15\t15\t15\n",
      "[enzyme]       cc/basic/csk1000:\t14\t10\t11\n",
      "[fadh2]        cc/basic/csk1000:\t13\t8\t9\n",
      "[gapdh]        cc/basic/csk1000:\t1\t0\t0\n",
      "[generate]     cc/basic/csk1000:\t50\t46\t45\n",
      "[glycerol]     cc/basic/csk1000:\t18\t12\t14\n",
      "[group]        cc/basic/csk1000:\t2\t2\t2\n",
      "[keto]         cc/basic/csk1000:\t3\t2\t2\n",
      "[ketoacyl]     cc/basic/csk1000:\t2\t0\t1\n",
      "[lipase]       cc/basic/csk1000:\t2\t1\t1\n",
      "[malate]       cc/basic/csk1000:\t8\t1\t1\n",
      "[molecule]     cc/basic/csk1000:\t99\t90\t91\n",
      "[nadh]         cc/basic/csk1000:\t23\t13\t18\n",
      "[nadph]        cc/basic/csk1000:\t2\t0\t1\n",
      "[oxidation]    cc/basic/csk1000:\t34\t29\t30\n",
      "[problem]      cc/basic/csk1000:\t11\t10\t10\n",
      "[propionyl]    cc/basic/csk1000:\t6\t0\t4\n",
      "[pyrophosphatase]cc/basic/csk1000:\t1\t0\t0\n",
      "[pyruvate]     cc/basic/csk1000:\t13\t7\t8\n",
      "[reaction]     cc/basic/csk1000:\t6\t6\t6\n",
      "[succinate]    cc/basic/csk1000:\t4\t2\t2\n",
      "[succinyl]     cc/basic/csk1000:\t9\t1\t3\n",
      "[thioester]    cc/basic/csk1000:\t19\t0\t0\n",
      "[track]        cc/basic/csk1000:\t1\t1\t1\n",
      "[triacylglycerol]cc/basic/csk1000:\t2\t0\t0\n",
      "\n",
      "biochem-ps19.txt cc_csk1000 단어수: 24\n",
      "[aldehyde]     cc/basic/csk1000:\t9\t4\t4\n",
      "[aldolase]     cc/basic/csk1000:\t10\t4\t5\n",
      "[amine]        cc/basic/csk1000:\t3\t1\t1\n",
      "[attack]       cc/basic/csk1000:\t7\t6\t6\n",
      "[delta]        cc/basic/csk1000:\t1\t1\t1\n",
      "[dhap]         cc/basic/csk1000:\t1\t1\t1\n",
      "[energy]       cc/basic/csk1000:\t9\t10\t10\n",
      "[gapdh]        cc/basic/csk1000:\t4\t0\t0\n",
      "[gluconeogenesis]cc/basic/csk1000:\t21\t16\t17\n",
      "[glycolysis]   cc/basic/csk1000:\t18\t13\t15\n",
      "[group]        cc/basic/csk1000:\t9\t10\t10\n",
      "[nadh]         cc/basic/csk1000:\t8\t4\t6\n",
      "[phosphoanhydride]cc/basic/csk1000:\t1\t0\t0\n",
      "[phosphoglycerate]cc/basic/csk1000:\t16\t6\t7\n",
      "[problem]      cc/basic/csk1000:\t12\t12\t12\n",
      "[product]      cc/basic/csk1000:\t7\t7\t7\n",
      "[pyruvate]     cc/basic/csk1000:\t14\t6\t6\n",
      "[reaction]     cc/basic/csk1000:\t42\t41\t41\n",
      "[release]      cc/basic/csk1000:\t4\t4\t4\n",
      "[space]        cc/basic/csk1000:\t2\t2\t2\n",
      "[sugar]        cc/basic/csk1000:\t1\t1\t1\n",
      "[textbook]     cc/basic/csk1000:\t1\t1\t1\n",
      "[version]      cc/basic/csk1000:\t2\t1\t1\n",
      "[voet]         cc/basic/csk1000:\t2\t0\t0\n",
      "\n"
     ]
    }
   ],
   "source": [
    "for i in range(len(files)):\n",
    "    \n",
    "    wlist = cc_csk1000[i]\n",
    "    print(files[i], \"cc_csk1000 단어수:\", len(wlist))\n",
    "    \n",
    "    #cc\n",
    "    file_cc = open(url+subject+\"/\"+files[i], \"r\")\n",
    "    data_cc = file_cc.read()\n",
    "    data_cc=data_cc.lower()\n",
    "    data_cc=re.sub('[^\\w]', ' ', data_cc)\n",
    "    tmp_cc = data_cc.split()\n",
    "    s_cc= ' '.join(tmp_cc)\n",
    "\n",
    "    #basic\n",
    "    file_basic = open(url_basic+subject+\"/\"+files_basic[i], \"r\")\n",
    "    data_basic = file_basic.read()\n",
    "    data_basic=data_basic.lower()\n",
    "    data_basic=re.sub('[^\\w]', ' ', data_basic)\n",
    "    tmp_basic = data_basic.split()\n",
    "    s_basic= ' '.join(tmp_basic)\n",
    "    \n",
    "    #nk\n",
    "    file_nk = open(url_nk+subject+\"/\"+files_nk[i], \"r\")\n",
    "    data_nk = file_nk.read()\n",
    "    data_nk=data_nk.lower()\n",
    "    data_nk=re.sub('[^\\w]', ' ', data_nk)\n",
    "    tmp_nk = data_nk.split()\n",
    "    s_nk= ' '.join(tmp_nk)\n",
    "\n",
    "    #csk 500\n",
    "    file_csk = open(url_csk1000+subject+\"/\"+files_csk1000[i], \"r\")\n",
    "    data_csk = file_csk.read()\n",
    "    data_csk = data_csk.lower()\n",
    "    data_csk = re.sub('[^\\w]', ' ', data_csk)\n",
    "    tmp_csk = data_csk.split()\n",
    "    s_csk= ' '.join(tmp_csk)\n",
    "    \n",
    "    for word in wlist:\n",
    "        wordprint = '[' + word + ']'\n",
    "        print('%-15s' % wordprint, end=\"\")\n",
    "        print(\"cc/basic/csk1000:\\t{}\\t{}\\t{}\".format(s_cc.count(word),s_basic.count(word),s_csk.count(word)))\n",
    "    print(\"\")"
   ]
  },
  {
   "cell_type": "markdown",
   "id": "91c35371",
   "metadata": {},
   "source": [
    "## cc-csk1500 비교"
   ]
  },
  {
   "cell_type": "code",
   "execution_count": 48,
   "id": "1eb55337",
   "metadata": {
    "scrolled": false
   },
   "outputs": [
    {
     "name": "stdout",
     "output_type": "stream",
     "text": [
      "biochem-ps10.txt cc_csk1500 단어수: 23\n",
      "[acid]         cc/basic/nk/csk1500:\t14\t17\t17\n",
      "[alpha]        cc/basic/nk/csk1500:\t16\t16\t16\n",
      "[amino]        cc/basic/nk/csk1500:\t10\t10\t10\n",
      "[carbon]       cc/basic/nk/csk1500:\t73\t65\t64\n",
      "[convention]   cc/basic/nk/csk1500:\t1\t1\t1\n",
      "[cycle]        cc/basic/nk/csk1500:\t20\t19\t19\n",
      "[dhap]         cc/basic/nk/csk1500:\t1\t1\t1\n",
      "[energy]       cc/basic/nk/csk1500:\t7\t7\t7\n",
      "[fadh2]        cc/basic/nk/csk1500:\t4\t3\t3\n",
      "[gapdh]        cc/basic/nk/csk1500:\t2\t0\t0\n",
      "[glutamate]    cc/basic/nk/csk1500:\t6\t6\t6\n",
      "[glycerol]     cc/basic/nk/csk1500:\t28\t21\t23\n",
      "[glycogen]     cc/basic/nk/csk1500:\t15\t14\t14\n",
      "[glycolysis]   cc/basic/nk/csk1500:\t5\t4\t5\n",
      "[group]        cc/basic/nk/csk1500:\t19\t19\t19\n",
      "[label]        cc/basic/nk/csk1500:\t36\t33\t32\n",
      "[molecule]     cc/basic/nk/csk1500:\t24\t21\t22\n",
      "[nadh]         cc/basic/nk/csk1500:\t11\t7\t9\n",
      "[phosphate]    cc/basic/nk/csk1500:\t17\t13\t14\n",
      "[problem]      cc/basic/nk/csk1500:\t14\t13\t13\n",
      "[reaction]     cc/basic/nk/csk1500:\t13\t13\t13\n",
      "[track]        cc/basic/nk/csk1500:\t6\t6\t6\n",
      "[transamination]cc/basic/nk/csk1500:\t7\t2\t3\n",
      "\n",
      "biochem-ps15.txt cc_csk1500 단어수: 35\n",
      "[acid]         cc/basic/nk/csk1500:\t53\t56\t56\n",
      "[alpha]        cc/basic/nk/csk1500:\t7\t7\t7\n",
      "[anhydride]    cc/basic/nk/csk1500:\t1\t1\t1\n",
      "[atps]         cc/basic/nk/csk1500:\t7\t0\t0\n",
      "[bond]         cc/basic/nk/csk1500:\t16\t12\t12\n",
      "[carbon]       cc/basic/nk/csk1500:\t27\t26\t26\n",
      "[chain]        cc/basic/nk/csk1500:\t7\t6\t6\n",
      "[cycle]        cc/basic/nk/csk1500:\t12\t12\t12\n",
      "[decarboxylation]cc/basic/nk/csk1500:\t1\t0\t0\n",
      "[dehydrogenase]cc/basic/nk/csk1500:\t9\t7\t7\n",
      "[energy]       cc/basic/nk/csk1500:\t15\t15\t15\n",
      "[enzyme]       cc/basic/nk/csk1500:\t14\t10\t11\n",
      "[fadh2]        cc/basic/nk/csk1500:\t13\t8\t9\n",
      "[gapdh]        cc/basic/nk/csk1500:\t1\t0\t0\n",
      "[generate]     cc/basic/nk/csk1500:\t50\t46\t45\n",
      "[glycerol]     cc/basic/nk/csk1500:\t18\t12\t14\n",
      "[group]        cc/basic/nk/csk1500:\t2\t2\t2\n",
      "[keto]         cc/basic/nk/csk1500:\t3\t2\t2\n",
      "[ketoacyl]     cc/basic/nk/csk1500:\t2\t0\t1\n",
      "[lipase]       cc/basic/nk/csk1500:\t2\t1\t1\n",
      "[malate]       cc/basic/nk/csk1500:\t8\t1\t1\n",
      "[molecule]     cc/basic/nk/csk1500:\t99\t90\t91\n",
      "[nadh]         cc/basic/nk/csk1500:\t23\t13\t18\n",
      "[nadph]        cc/basic/nk/csk1500:\t2\t0\t1\n",
      "[oxidation]    cc/basic/nk/csk1500:\t34\t29\t30\n",
      "[problem]      cc/basic/nk/csk1500:\t11\t10\t10\n",
      "[propionyl]    cc/basic/nk/csk1500:\t6\t0\t4\n",
      "[pyrophosphatase]cc/basic/nk/csk1500:\t1\t0\t0\n",
      "[pyruvate]     cc/basic/nk/csk1500:\t13\t7\t8\n",
      "[reaction]     cc/basic/nk/csk1500:\t6\t6\t6\n",
      "[succinate]    cc/basic/nk/csk1500:\t4\t2\t1\n",
      "[succinyl]     cc/basic/nk/csk1500:\t9\t1\t3\n",
      "[thioester]    cc/basic/nk/csk1500:\t19\t0\t0\n",
      "[track]        cc/basic/nk/csk1500:\t1\t1\t1\n",
      "[triacylglycerol]cc/basic/nk/csk1500:\t2\t0\t0\n",
      "\n",
      "biochem-ps19.txt cc_csk1500 단어수: 26\n",
      "[aldehyde]     cc/basic/nk/csk1500:\t9\t4\t4\n",
      "[aldolase]     cc/basic/nk/csk1500:\t10\t4\t5\n",
      "[amine]        cc/basic/nk/csk1500:\t3\t1\t1\n",
      "[attack]       cc/basic/nk/csk1500:\t7\t6\t6\n",
      "[delta]        cc/basic/nk/csk1500:\t1\t1\t1\n",
      "[dhap]         cc/basic/nk/csk1500:\t1\t1\t1\n",
      "[edition]      cc/basic/nk/csk1500:\t1\t1\t1\n",
      "[energy]       cc/basic/nk/csk1500:\t9\t10\t9\n",
      "[gapdh]        cc/basic/nk/csk1500:\t4\t0\t0\n",
      "[gluconeogenesis]cc/basic/nk/csk1500:\t21\t16\t17\n",
      "[glycolysis]   cc/basic/nk/csk1500:\t18\t13\t15\n",
      "[group]        cc/basic/nk/csk1500:\t9\t10\t9\n",
      "[nadh]         cc/basic/nk/csk1500:\t8\t4\t7\n",
      "[partner]      cc/basic/nk/csk1500:\t1\t1\t1\n",
      "[phosphoanhydride]cc/basic/nk/csk1500:\t1\t0\t0\n",
      "[phosphoglycerate]cc/basic/nk/csk1500:\t16\t6\t6\n",
      "[problem]      cc/basic/nk/csk1500:\t12\t12\t12\n",
      "[product]      cc/basic/nk/csk1500:\t7\t7\t7\n",
      "[pyruvate]     cc/basic/nk/csk1500:\t14\t6\t6\n",
      "[reaction]     cc/basic/nk/csk1500:\t42\t41\t41\n",
      "[release]      cc/basic/nk/csk1500:\t4\t4\t4\n",
      "[space]        cc/basic/nk/csk1500:\t2\t2\t2\n",
      "[sugar]        cc/basic/nk/csk1500:\t1\t1\t1\n",
      "[textbook]     cc/basic/nk/csk1500:\t1\t1\t1\n",
      "[version]      cc/basic/nk/csk1500:\t2\t1\t1\n",
      "[voet]         cc/basic/nk/csk1500:\t2\t0\t0\n",
      "\n"
     ]
    }
   ],
   "source": [
    "for i in range(len(files)):\n",
    "    \n",
    "    wlist = cc_csk1500[i]\n",
    "    print(files[i], \"cc_csk1500 단어수:\", len(wlist))\n",
    "    \n",
    "    #cc\n",
    "    file_cc = open(url+subject+\"/\"+files[i], \"r\")\n",
    "    data_cc = file_cc.read()\n",
    "    data_cc=data_cc.lower()\n",
    "    data_cc=re.sub('[^\\w]', ' ', data_cc)\n",
    "    tmp_cc = data_cc.split()\n",
    "    s_cc= ' '.join(tmp_cc)\n",
    "\n",
    "    #basic\n",
    "    file_basic = open(url_basic+subject+\"/\"+files_basic[i], \"r\", encoding = \"utf-8\")\n",
    "    data_basic = file_basic.read()\n",
    "    data_basic=data_basic.lower()\n",
    "    data_basic=re.sub('[^\\w]', ' ', data_basic)\n",
    "    tmp_basic = data_basic.split()\n",
    "    s_basic= ' '.join(tmp_basic)\n",
    "    \n",
    "    #nk\n",
    "    file_nk = open(url_nk+subject+\"/\"+files_nk[i], \"r\")\n",
    "    data_nk = file_nk.read()\n",
    "    data_nk=data_nk.lower()\n",
    "    data_nk=re.sub('[^\\w]', ' ', data_nk)\n",
    "    tmp_nk = data_nk.split()\n",
    "    s_nk= ' '.join(tmp_nk)\n",
    "\n",
    "    #csk 500\n",
    "    file_csk = open(url_csk1500+subject+\"/\"+files_csk1500[i], \"r\", encoding = \"utf-8\")\n",
    "    data_csk = file_csk.read()\n",
    "    data_csk = data_csk.lower()\n",
    "    data_csk = re.sub('[^\\w]', ' ', data_csk)\n",
    "    tmp_csk = data_csk.split()\n",
    "    s_csk= ' '.join(tmp_csk)\n",
    "    \n",
    "    for word in wlist:\n",
    "        wordprint = '[' + word + ']'\n",
    "        print('%-15s' % wordprint, end=\"\")\n",
    "        print(\"cc/basic/nk/csk1500:\\t{}\\t{}\\t{}\".format(s_cc.count(word),s_basic.count(word), s_csk.count(word)))\n",
    "    print(\"\")"
   ]
  },
  {
   "cell_type": "code",
   "execution_count": null,
   "id": "f0f94472",
   "metadata": {},
   "outputs": [],
   "source": []
  },
  {
   "cell_type": "code",
   "execution_count": null,
   "id": "a68f56ae",
   "metadata": {},
   "outputs": [],
   "source": []
  }
 ],
 "metadata": {
  "kernelspec": {
   "display_name": "Python 3 (ipykernel)",
   "language": "python",
   "name": "python3"
  },
  "language_info": {
   "codemirror_mode": {
    "name": "ipython",
    "version": 3
   },
   "file_extension": ".py",
   "mimetype": "text/x-python",
   "name": "python",
   "nbconvert_exporter": "python",
   "pygments_lexer": "ipython3",
   "version": "3.8.12"
  }
 },
 "nbformat": 4,
 "nbformat_minor": 5
}
